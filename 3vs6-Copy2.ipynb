{
 "cells": [
  {
   "cell_type": "markdown",
   "metadata": {
    "collapsed": true
   },
   "source": [
    "# Forsøk: Hvordan varier ML-performance for de forskjellige sifrene?\n",
    "\n",
    "## Hypotese: Det vil være lettere å klassifisere deweys dess flere siffer dem har, siden innholdet er mer spesifisert?"
   ]
  },
  {
   "cell_type": "code",
   "execution_count": 1,
   "metadata": {},
   "outputs": [
    {
     "ename": "ImportError",
     "evalue": "No module named 'nb_ml'",
     "output_type": "error",
     "traceback": [
      "\u001b[0;31m---------------------------------------------------------------------------\u001b[0m",
      "\u001b[0;31mImportError\u001b[0m                               Traceback (most recent call last)",
      "\u001b[0;32m<ipython-input-1-0cd57612f629>\u001b[0m in \u001b[0;36m<module>\u001b[0;34m()\u001b[0m\n\u001b[0;32m----> 1\u001b[0;31m \u001b[0;32mfrom\u001b[0m \u001b[0mnb_ml\u001b[0m \u001b[0;32mimport\u001b[0m \u001b[0mutils_nb\u001b[0m\u001b[0;34m\u001b[0m\u001b[0m\n\u001b[0m\u001b[1;32m      2\u001b[0m \u001b[0;32mimport\u001b[0m \u001b[0mpandas\u001b[0m \u001b[0;32mas\u001b[0m \u001b[0mpd\u001b[0m\u001b[0;34m\u001b[0m\u001b[0m\n\u001b[1;32m      3\u001b[0m \u001b[0mfolder\u001b[0m \u001b[0;34m=\u001b[0m \u001b[0;34m\"/home/ubuntu/PycharmProjects/3vs6/fixed_idunn_corpus_150218_struct/fixed_idunn_corpus_150218_struct\"\u001b[0m\u001b[0;34m\u001b[0m\u001b[0m\n\u001b[1;32m      4\u001b[0m \u001b[0marticles\u001b[0m \u001b[0;34m=\u001b[0m \u001b[0mutils_nb\u001b[0m\u001b[0;34m.\u001b[0m\u001b[0mget_articles_from_folder_several_deweys\u001b[0m\u001b[0;34m(\u001b[0m\u001b[0mfolder\u001b[0m\u001b[0;34m)\u001b[0m\u001b[0;34m\u001b[0m\u001b[0m\n\u001b[1;32m      5\u001b[0m \u001b[0;34m\u001b[0m\u001b[0m\n",
      "\u001b[0;31mImportError\u001b[0m: No module named 'nb_ml'"
     ]
    }
   ],
   "source": [
    "from nb_ml import utils_nb\n",
    "import pandas as pd\n",
    "folder = \"/home/ubuntu/PycharmProjects/3vs6/fixed_idunn_corpus_150218_struct/fixed_idunn_corpus_150218_struct\"\n",
    "articles = utils_nb.get_articles_from_folder_several_deweys(folder)\n",
    "\n"
   ]
  },
  {
   "cell_type": "markdown",
   "metadata": {},
   "source": [
    "# Oversikt over deweys og antall dokumenter per dewey\n",
    "Det første steget er å få en oversikt over hvilke deweys vi har og hvor mange vi har av hver. For å få et inntrykk så skriver vi ut en liste over de 40 øverste. Dette vil også gi oss en formening om hvilke 3,4, 5 og 6 sifrede deweys som kan være aktuelle for videre forsøk.\n"
   ]
  },
  {
   "cell_type": "code",
   "execution_count": null,
   "metadata": {},
   "outputs": [],
   "source": [
    "topN = articles[\"dewey\"].value_counts().head(60)\n",
    "print(\"dewey       frekvens\")\n",
    "print(topN)\n"
   ]
  },
  {
   "cell_type": "markdown",
   "metadata": {},
   "source": [
    "Fra tabellen over ser vi at vi har en rekke lovende kandidater for videre forsøk. Jeg lister dem opp ved siden av antall deweys, frekvens er i parentes:\n",
    "- 10-siffer: 3521409481(47)\n",
    "\n",
    "- 7-siffer: 6168915 (90), 3412422(57)\n",
    "- 6-siffer: 839823 (141), 362293(137), 362204(96), 362292(79),379481(58)\n",
    "- 5-siffer: 36229 (604), 34304(116), 30223(75), 34602(58)\n",
    "- 4-siffer: 3621(129), 3622(126),3627(100), 34602(58),9072(53)\n",
    "- 3-siffer: 306(70), 657(51)"
   ]
  },
  {
   "cell_type": "markdown",
   "metadata": {},
   "source": [
    "# Scenarioer for testing\n",
    "### Hovedscenario\n",
    "- 3 vs 6\n",
    "\n",
    "#### Ekstra-scenarioer\n",
    "- 3 vs 5\n",
    "- 3 vs 6\n",
    "- 3 vs 7"
   ]
  },
  {
   "cell_type": "markdown",
   "metadata": {},
   "source": [
    "### Teknisk oppsett\n",
    "I testene har logistisk regresjon blitt brukt som klassifiseringsalgoritme, under ligger testkoden.\n",
    "\n",
    "Biblioteker:\n",
    "- NLTK\n",
    "- sci-kit learn\n",
    "- matplotlib\n",
    "- numpy\n"
   ]
  },
  {
   "cell_type": "code",
   "execution_count": null,
   "metadata": {},
   "outputs": [],
   "source": [
    "import sys\n",
    "sys.path.append('/home/ubuntu/PycharmProjects_saved/tgpl_w_oop/nb_ml')\n",
    "from nb_ml import logreg\n",
    "from nltk.tokenize import word_tokenize \n",
    "from nltk.corpus import stopwords\n",
    "from sklearn.model_selection import train_test_split\n",
    "from sklearn.feature_extraction.text import CountVectorizer\n",
    "from sklearn.linear_model import LogisticRegression\n",
    "from sklearn.metrics import classification_report\n",
    "from sklearn.manifold import TSNE\n",
    "from sklearn.decomposition import TruncatedSVD\n",
    "from sklearn.metrics import accuracy_score\n",
    "import matplotlib.cm as cm\n",
    "import numpy as np\n",
    "from collections import OrderedDict\n",
    "from sklearn.neighbors.classification import KNeighborsClassifier\n",
    "class dewey_test():\n",
    "    \n",
    "    def __init__(self, data):\n",
    "        self.corpus_dataframe = data.copy()\n",
    "        self.filtered_corpus = []\n",
    "        self.x_train = None\n",
    "        self.y_train = None\n",
    "        self.x_test = None\n",
    "        self.y_test = None\n",
    "        self.model = None\n",
    "        self.predictions = None\n",
    "        self.results = None\n",
    "        self.accuracy = None\n",
    "    def preprocessing(self, numArticlesPerDewey=2, strict = False):\n",
    "        filtered_texts = []\n",
    "        if strict == True:\n",
    "            self.getStrictArticleSelection(numArticlesPerDewey)\n",
    "        for text in self.corpus_dataframe[\"text\"].values:\n",
    "            tokenized_text = word_tokenize(text = str(text), language = \"norwegian\")\n",
    "        self.y_train = self.corpus_dataframe[\"dewey\"].tolist()\n",
    "        self.y_test = self.corpus_dataframe[\"dewey\"].tolist()\n",
    "    def splitToTrainingAndTest(self, stratified):\n",
    "        x = self.corpus_dataframe[\"text\"].tolist()\n",
    "        y = self.corpus_dataframe[\"dewey\"].tolist()\n",
    "        if stratified == True:\n",
    "            self.x_train, self.x_test, self.y_train, self.y_test = train_test_split(x, y,test_size = 0.2, stratify = y,random_state = 42)\n",
    "        else:\n",
    "            self.x_train, self.x_test, self.y_train, self.y_test = train_test_split(x, y,test_size = 0.2,random_state = 42)\n",
    "    def fit(self):\n",
    "        count_vectorizer = CountVectorizer(max_features = 10000)\n",
    "        self.x_train = count_vectorizer.fit_transform(self.x_train)\n",
    "        self.x_test = count_vectorizer.transform(self.x_test)\n",
    "    def train(self):\n",
    "        self.model = LogisticRegression() \n",
    "        self.model.fit(self.x_train, self.y_train)\n",
    "    def predict(self):\n",
    "        self.predictions = self.model.predict(self.x_test)\n",
    "        self.results = classification_report(self.y_test, self.predictions)\n",
    "        self.getAccuracy()\n",
    "    def getAccuracy(self):\n",
    "        self.accuracy = accuracy_score(self.y_test, self.predictions)\n",
    "    def printResults(self):\n",
    "        print(str(self.results) +\"\\n\")\n",
    "        print(\"Accuracy:\"+ str(self.accuracy))\n",
    "    \n",
    "    def tsne(self):\n",
    "        X_reduced = TruncatedSVD(n_components = 50, random_state=0).fit_transform(self.x_train)\n",
    "        X_embedded = TSNE(n_components =2, perplexity = 40, random_state = 0).fit_transform(X_reduced)\n",
    "        \n",
    "        colors = cm.rainbow(np.linspace(0,1,len(set(self.y_train))))\n",
    "        unique_labels = set(self.y_train)\n",
    "        color_dictionary = dict(zip(unique_labels, colors))\n",
    "        \n",
    "        color_list = []\n",
    "        for label in self.y_train:\n",
    "            color_list.append(color_dictionary[str(label)])\n",
    "        for i in range(0,len(self.y_train)):    \n",
    "            plt.scatter(X_embedded[i,0], X_embedded[i,1], c = color_list[i],label = str(self.y_train[i]), \n",
    "                        cmap = \"tab20b\" )\n",
    "        handles, labels = plt.gca().get_legend_handles_labels()\n",
    "        by_label = OrderedDict(zip(labels, handles))\n",
    "        plt.legend(by_label.values(), by_label.keys())\n",
    "        plt.title(\"TSNE-plot\")\n",
    "        plt.show()\n",
    "    def getStrictArticleSelection(self, articlesPerDewey):\n",
    "        np.random.seed(0)\n",
    "        size = articlesPerDewey  # sample size\n",
    "        replace = False  # with replacement\n",
    "       \n",
    "        self.corpus_dataframe =self.corpus_dataframe[self.corpus_dataframe['dewey'].isin(self.corpus_dataframe['dewey'].value_counts()[self.corpus_dataframe['dewey'].value_counts()>size-1].index)]\n",
    "        fn = lambda obj: obj.loc[np.random.choice(obj.index, size, replace), :]\n",
    "        self.corpus_dataframe = self.corpus_dataframe.groupby('dewey', as_index=False).apply(fn)\n",
    "        \n",
    "    def plotDecisionSurface(self):\n",
    "        X_reduced = TruncatedSVD(n_components = 50, random_state=0).fit_transform(self.x_train)\n",
    "        X_embedded = TSNE(n_components =2, perplexity = 40, random_state = 0).fit_transform(X_reduced)\n",
    "        \n",
    "        \n",
    "        colors = cm.rainbow(np.linspace(0,1,len(set(self.y_train))))\n",
    "        unique_labels = set(self.y_test)\n",
    "        color_dictionary = dict(zip(unique_labels, colors))\n",
    "        \n",
    "        color_list = []\n",
    "        for label in self.y_train:\n",
    "            color_list.append(color_dictionary[str(label)])\n",
    "                \n",
    "        # create meshgrid\n",
    "        resolution = 1000 # 100x100 background pixels\n",
    "        X2d_xmin, X2d_xmax = np.min(X_embedded[:,0]), np.max(X_embedded[:,0])\n",
    "        X2d_ymin, X2d_ymax = np.min(X_embedded[:,1]), np.max(X_embedded[:,1])\n",
    "        xx, yy = np.meshgrid(np.linspace(X2d_xmin, X2d_xmax, resolution), np.linspace(X2d_ymin, X2d_ymax, resolution))\n",
    "\n",
    "        # approximate Voronoi tesselation on resolution x resolution grid using 1-NN\n",
    "        background_model = KNeighborsClassifier(n_neighbors=1).fit(X_embedded, self.y_train) \n",
    "        voronoiBackground = background_model.predict(np.c_[xx.ravel(), yy.ravel()])\n",
    "        voronoiBackground = voronoiBackground.reshape(xx.shape)\n",
    "        \n",
    "        plt.contourf(xx, yy, voronoiBackground, cmap=plt.cm.Paired)\n",
    "        handles, labels = plt.gca().get_legend_handles_labels()\n",
    "        by_label = OrderedDict(zip(labels, handles))\n",
    "        plt.legend(by_label.values(), by_label.keys())\n",
    "        for i in range(0,len(self.y_train)):    \n",
    "            plt.scatter(X_embedded[i,0], X_embedded[i,1], c = color_list[i],label = str(self.y_train[i]), \n",
    "                        cmap = \"tab20b\" )\n",
    "        handles, labels = plt.gca().get_legend_handles_labels()\n",
    "        by_label = OrderedDict(zip(labels, handles))\n",
    "        plt.legend(by_label.values(), by_label.keys())\n",
    "        plt.title(\"Contour-diagram\")\n",
    "        #plt.scatter(X_embedded[:,0], X_embedded[:,1], c=self.y_train)\n",
    "        plt.show()\n",
    "        \n"
   ]
  },
  {
   "cell_type": "code",
   "execution_count": null,
   "metadata": {},
   "outputs": [],
   "source": [
    "## Hjelpefunksjoner\n",
    "def getDeweyAndAllSubdeweys(deweynr, corpus):\n",
    "    \n",
    "    filter_col = [col for col in articles[\"dewey\"] if col.startswith(deweynr)]\n",
    "    dfWithDeweyAndSubdeweys = corpus.loc[corpus['dewey'].isin(filter_col)].copy()\n",
    "    return dfWithDeweyAndSubdeweys\n",
    "\n",
    "def sliceDewey(x,length):\n",
    "    if len(x)==length:\n",
    "        return x[:length]\n",
    "    else:\n",
    "        return x[:]\n",
    "def joinDeweysDfs(*args):\n",
    "    all_dfs = []\n",
    "    for arg in args:\n",
    "        all_dfs.append(arg)\n",
    "    joined_df = pd.concat(all_dfs)\n",
    "    return joined_df"
   ]
  },
  {
   "cell_type": "markdown",
   "metadata": {},
   "source": [
    "# Offisiell Test 3 vs 6 siffer"
   ]
  },
  {
   "cell_type": "markdown",
   "metadata": {},
   "source": [
    "## Deltest 1.1: 3 siffer   \n",
    "Første test går ut på å gjøre en klassifisering med 39 dokumenter per dewey med deweyene 657, 306 og 193. Bakgrunnen for at 39 dokumenter er valgt er at dette er det høyeste antallet dokumenter vi kunne ha for å få 3 forskjellige deweys i testen. Dette gjenspeiles i listen over. Hver dewey har 39 dokumenter. 31 i treningssett og 8 i testsett.  "
   ]
  },
  {
   "cell_type": "code",
   "execution_count": null,
   "metadata": {},
   "outputs": [],
   "source": [
    "test = dewey_test(dewey3_df)\n",
    "test.preprocessing(numArticlesPerDewey=39, strict = True)\n",
    "test.splitToTrainingAndTest(stratified = True)\n",
    "test.fit()\n",
    "test.train()\n",
    "test.predict()\n",
    "test.tsne()\n",
    "test.plotDecisionSurface()\n",
    "test.printResults()"
   ]
  },
  {
   "cell_type": "markdown",
   "metadata": {},
   "source": [
    "## Deltest 1.2: 6 siffer, der alle siffer er fra samme subdewey, 362.\n",
    "I denne testen brukes deweyene: 362293, 362292, 362204. Alle disse er fra samme subdewey 362. Hver dewey har 39 dokumenter. 31 i treningssett og 8 i testsett."
   ]
  },
  {
   "cell_type": "code",
   "execution_count": null,
   "metadata": {
    "scrolled": true
   },
   "outputs": [],
   "source": [
    "df_362 = getDeweyAndAllSubdeweys(\"362\", articles)\n",
    "mask = (df_362['dewey'].str.len() == 6)\n",
    "df_362 = df_362.loc[mask]\n",
    "\n",
    "test = dewey_test(df_362)\n",
    "test.preprocessing(numArticlesPerDewey=39, strict = True)\n",
    "test.splitToTrainingAndTest(stratified = True)\n",
    "test.fit()\n",
    "test.train()\n",
    "test.predict()\n",
    "test.tsne()\n",
    "test.plotDecisionSurface()\n",
    "test.printResults()"
   ]
  },
  {
   "cell_type": "markdown",
   "metadata": {},
   "source": [
    "## Deltest 1.3: 6 siffer, der alle deweys er fra forskjellige subdeweys\n",
    "I denne testen brukes deweyene: 839823, 379481, 327481. Disse er alle fra forskjellige subtre. Dette er for å se på hvordan dette påvirker gjenkjenningen til algoritmen, sammenlignet med testen gjort i deltest 1.2. Hver dewey har 39 dokumenter. 31 i treningssett og 8 i testsett."
   ]
  },
  {
   "cell_type": "code",
   "execution_count": null,
   "metadata": {},
   "outputs": [],
   "source": [
    "df_839823 = getDeweyAndAllSubdeweys(\"839823\", articles)\n",
    "mask = (df_839823['dewey'].str.len() == 6)\n",
    "df_839823 = df_839823.loc[mask]\n",
    "\n",
    "\n",
    "df_379481 = getDeweyAndAllSubdeweys(\"379481\", articles)\n",
    "mask = (df_379481['dewey'].str.len() == 6)\n",
    "df_379481= df_379481.loc[mask]\n",
    "\n",
    "df_327481  = getDeweyAndAllSubdeweys(\"327481\", articles)\n",
    "mask = (df_327481 ['dewey'].str.len() == 6)\n",
    "df_327481 = df_327481 .loc[mask]\n",
    "\n",
    "\n",
    "joinedDF = pd.concat([df_839823, df_379481, df_327481])\n",
    "\n",
    "test = dewey_test(joinedDF)\n",
    "test.preprocessing(numArticlesPerDewey=39, strict = True)\n",
    "test.splitToTrainingAndTest(stratified = True)\n",
    "test.fit()\n",
    "test.train()\n",
    "test.predict()\n",
    "test.tsne()\n",
    "test.plotDecisionSurface()\n",
    "test.printResults()"
   ]
  },
  {
   "cell_type": "markdown",
   "metadata": {},
   "source": [
    "# 2: Ekstra tester\n",
    "Dette er noen ekstra tester jeg har lagt inn, mens jeg har utforsket dataen. \n",
    "Her er det tester med 4,5 og 7 siffer. "
   ]
  },
  {
   "cell_type": "markdown",
   "metadata": {},
   "source": [
    "## Deltest 2.1: Test med 4 siffer:\n",
    "Dette er en test av 4 sifrede deweys der alle er fra samme subdewey 3627. Deweyene som blir brukt er: 3627,3622,3621. Hver dewey har 39 dokumenter. 31 i treningssett og 8 i testsett."
   ]
  },
  {
   "cell_type": "code",
   "execution_count": null,
   "metadata": {},
   "outputs": [],
   "source": [
    "dewey4 = [\"3621\", \"3622\", \"3627\"] #\"9072\"]\n",
    "dewey4_df = articles.loc[articles['dewey'].isin(dewey4)].copy()\n",
    "\n",
    "test = dewey_test(dewey4_df)\n",
    "test.preprocessing(numArticlesPerDewey = 39, strict = True)\n",
    "test.splitToTrainingAndTest(stratified = True)\n",
    "test.fit()\n",
    "test.train()\n",
    "test.predict()\n",
    "test.tsne()\n",
    "test.plotDecisionSurface()\n",
    "test.printResults()\n"
   ]
  },
  {
   "cell_type": "markdown",
   "metadata": {},
   "source": [
    "## Deltest 2.2 Test med 5 siffer:\n",
    "Test med 5 sifrede deweys der alle er fra forskjellige subdeweys. Deweyene som blir brukt her er: 30223,3403,36229 og 34602. Hver dewey har 39 dokumenter. 31 i treningssett og 8 i testsett."
   ]
  },
  {
   "cell_type": "code",
   "execution_count": null,
   "metadata": {
    "scrolled": true
   },
   "outputs": [],
   "source": [
    "dewey5 = [\"36229\", \"34304\", \"30223\", \"34602\"]\n",
    "dewey5_df = articles.loc[articles['dewey'].isin(dewey5)].copy()\n",
    "\n",
    "test = dewey_test(dewey5_df)\n",
    "test.preprocessing(numArticlesPerDewey = 39, strict = True)\n",
    "test.splitToTrainingAndTest(stratified = True)\n",
    "test.fit()\n",
    "test.train()\n",
    "test.predict()\n",
    "test.tsne()\n",
    "test.plotDecisionSurface()\n",
    "test.printResults()"
   ]
  },
  {
   "cell_type": "markdown",
   "metadata": {},
   "source": [
    "## Deltest 2.3 Test med 7 siffer:\n",
    "Dette er en test med 2 forskjellige 7-sifrede deweys, der begge er fra forskjellige subdeweys. Deweyene som blir brukt er: 3412422 og 6168915. Hver dewey har 39 dokumenter. 31 i treningssett og 8 i testsett."
   ]
  },
  {
   "cell_type": "code",
   "execution_count": null,
   "metadata": {
    "scrolled": true
   },
   "outputs": [],
   "source": [
    "dewey7 = [\"6168915\", \"3412422\"]\n",
    "dewey7_df = articles.loc[articles['dewey'].isin(dewey7)].copy()\n",
    "\n",
    "test = dewey_test(dewey7_df)\n",
    "test.preprocessing(numArticlesPerDewey = 39, strict = True)\n",
    "test.splitToTrainingAndTest(stratified = True)\n",
    "test.fit()\n",
    "test.train()\n",
    "test.predict()\n",
    "test.tsne()\n",
    "test.plotDecisionSurface()\n",
    "test.printResults()"
   ]
  },
  {
   "cell_type": "markdown",
   "metadata": {},
   "source": [
    "# 3: Statistikk"
   ]
  },
  {
   "cell_type": "code",
   "execution_count": null,
   "metadata": {},
   "outputs": [],
   "source": [
    "dewey6 = [\"839823\", \"362293\", \"362204\", \"362292\", \"379481\"].copy()\n",
    "dewey6_df = articles.loc[articles['dewey'].isin(dewey6)]\n",
    "\n",
    "dewey5 = [\"36229\", \"34304\", \"30223\", \"34602\"]\n",
    "dewey5_df = articles.loc[articles['dewey'].isin(dewey5)].copy()\n",
    "\n",
    "dewey4 = [\"3621\", \"3622\", \"3627\", \"9072\"]\n",
    "dewey4_df = articles.loc[articles['dewey'].isin(dewey4)].copy()\n",
    "\n",
    "\n"
   ]
  },
  {
   "cell_type": "markdown",
   "metadata": {},
   "source": [
    "## Analyse av tekstlengde (i ord) og gjennomsnittlig ordlengde\n",
    "For å forstå dataene bedre så vil jeg gjøre en analyse over tekstlengder og gjennomsnittlig ordlengde for de forskjellige deweyene. \n"
   ]
  },
  {
   "cell_type": "code",
   "execution_count": null,
   "metadata": {},
   "outputs": [],
   "source": [
    "## Importerer biblioteker. \n",
    "import matplotlib as mpl\n",
    "import matplotlib.pyplot as plt\n",
    "import seaborn as sns"
   ]
  },
  {
   "cell_type": "markdown",
   "metadata": {},
   "source": [
    "### Deltest 1.1\n",
    "Plot for deweyene brukt i test 1.1"
   ]
  },
  {
   "cell_type": "code",
   "execution_count": null,
   "metadata": {},
   "outputs": [],
   "source": [
    "dewey3 = [\"306\", \"657\", \"193\"]\n",
    "\n",
    "dewey3_df = articles.loc[articles['dewey'].isin(dewey3)].copy()\n",
    "dewey3_df[\"num_words\"] = dewey3_df[\"text\"].str.split().str.len()\n",
    "\n",
    "\n",
    "\n",
    "fig, axs = plt.subplots(nrows = 2, ncols=2, sharey = False)\n",
    "plt.title(\"Antall ord og gjennimsnittslengde for dewey 306, 657 og 193\")\n",
    "sns.boxplot(x = \"dewey\", y = \"num_words\", data =dewey3_df, ax=axs[0,0])\n",
    "sns.stripplot(x = \"dewey\", y = \"num_words\", data =dewey3_df, jitter = True,edgecolor= \"yellow\", ax=axs[0,0])\n",
    "\n",
    "dewey3_df[\"char_length\"] = dewey3_df[\"text\"].str.strip().str.len()\n",
    "dewey3_df[\"avg_word_length\"] = dewey3_df[\"char_length\"]/dewey3_df[\"num_words\"]\n",
    "sns.boxplot(x = \"dewey\", y = \"avg_word_length\", data =dewey3_df, ax=axs[0,1])\n",
    "sns.stripplot(x = \"dewey\", y = \"avg_word_length\", data =dewey3_df, jitter = True,edgecolor= \"yellow\", ax=axs[0,1])\n",
    "\n",
    "fig_size=[0,0]\n",
    "fig_size[0] = 14\n",
    "fig_size[1] = 8\n",
    "plt.rcParams[\"figure.figsize\"] = fig_size\n",
    "plt.ylim(0, 20000)\n",
    "plt.tight_layout(pad=1.0, w_pad=0.5, h_pad=2.0)\n",
    "plt.show()"
   ]
  },
  {
   "cell_type": "markdown",
   "metadata": {},
   "source": [
    "### Deltest 1.2\n",
    "Plot av tekstlengde (ord) og gjennomsnittlig ordlengde for deweyene brukt i test 1.2"
   ]
  },
  {
   "cell_type": "code",
   "execution_count": null,
   "metadata": {},
   "outputs": [],
   "source": [
    "df_362_deweys = [\"362293\", \"362292\", \"362204\"]\n",
    "df_362 = articles.loc[articles['dewey'].isin(df_362_deweys)].copy()\n",
    "df_362[\"num_words\"] = df_362[\"text\"].str.split().str.len()\n",
    "\n",
    "df_362[\"char_length\"] = df_362[\"text\"].str.strip().str.len()\n",
    "df_362[\"avg_word_length\"] = df_362[\"char_length\"]/df_362[\"num_words\"]\n",
    "\n",
    "fig, axs = plt.subplots(nrows = 2, ncols=2, sharey = False)\n",
    "plt.title(\"Antall ord og gjennimsnittslengde for dewey 362293, 362292, 362204\")\n",
    "sns.boxplot(x = \"dewey\", y = \"num_words\", data =df_362, ax=axs[0,0])\n",
    "sns.stripplot(x = \"dewey\", y = \"num_words\", data =df_362, jitter = True,edgecolor= \"yellow\", ax=axs[0,0])\n",
    "\n",
    "sns.boxplot(x = \"dewey\", y = \"avg_word_length\", data =df_362, ax=axs[0,1])\n",
    "sns.stripplot(x = \"dewey\", y = \"avg_word_length\", data =df_362, jitter = True,edgecolor= \"yellow\", ax=axs[0,1])\n",
    "\n",
    "fig_size=[0,0]\n",
    "fig_size[0] = 14\n",
    "fig_size[1] = 8\n",
    "plt.rcParams[\"figure.figsize\"] = fig_size\n",
    "plt.ylim(0, 20000)\n",
    "plt.tight_layout(pad=1.0, w_pad=0.5, h_pad=2.0)\n",
    "plt.show()"
   ]
  },
  {
   "cell_type": "markdown",
   "metadata": {},
   "source": [
    "### Deltest 1.3\n",
    "Plot av tekstlengde (ord) og gjennomsnittlig ordlengde for deweyene brukt i test 1.3"
   ]
  },
  {
   "cell_type": "code",
   "execution_count": null,
   "metadata": {},
   "outputs": [],
   "source": [
    "deweys13 = [\"839823\", \"379481\", \"327481\"]\n",
    "df_1_3 = articles.loc[articles['dewey'].isin(deweys13)].copy()\n",
    "df_1_3[\"num_words\"] = df_1_3[\"text\"].str.split().str.len()\n",
    "\n",
    "df_1_3[\"char_length\"] = df_1_3[\"text\"].str.strip().str.len()\n",
    "df_1_3[\"avg_word_length\"] = df_1_3[\"char_length\"]/df_1_3[\"num_words\"]\n",
    "\n",
    "fig, axs = plt.subplots(nrows = 2, ncols=2, sharey = False)\n",
    "plt.title(\"Antall ord og gjennimsnittslengde for dewey 362293, 362292, 362204\")\n",
    "sns.boxplot(x = \"dewey\", y = \"num_words\", data =df_1_3, ax=axs[0,0])\n",
    "sns.stripplot(x = \"dewey\", y = \"num_words\", data =df_1_3, jitter = True,edgecolor= \"yellow\", ax=axs[0,0])\n",
    "\n",
    "sns.boxplot(x = \"dewey\", y = \"avg_word_length\", data =df_1_3, ax=axs[0,1])\n",
    "sns.stripplot(x = \"dewey\", y = \"avg_word_length\", data =df_1_3, jitter = True,edgecolor= \"yellow\", ax=axs[0,1])\n",
    "\n",
    "fig_size=[0,0]\n",
    "fig_size[0] = 14\n",
    "fig_size[1] = 8\n",
    "plt.rcParams[\"figure.figsize\"] = fig_size\n",
    "plt.ylim(0, 20000)\n",
    "plt.tight_layout(pad=1.0, w_pad=0.5, h_pad=2.0)\n",
    "plt.show()"
   ]
  },
  {
   "cell_type": "markdown",
   "metadata": {},
   "source": [
    "### Deltest 2.1\n",
    "Plot av tekstlengde (ord) og gjennomsnittlig ordlengde for deweyene brukt i test 2.1"
   ]
  },
  {
   "cell_type": "code",
   "execution_count": null,
   "metadata": {},
   "outputs": [],
   "source": [
    "\n",
    "deweys21 = [\"3621\", \"3622\", \"3627\"]\n",
    "df_2_1 = articles.loc[articles['dewey'].isin(deweys21)].copy()\n",
    "df_2_1[\"num_words\"] = df_2_1[\"text\"].str.split().str.len()\n",
    "\n",
    "df_2_1[\"char_length\"] = df_2_1[\"text\"].str.strip().str.len()\n",
    "df_2_1[\"avg_word_length\"] = df_2_1[\"char_length\"]/df_2_1[\"num_words\"]\n",
    "\n",
    "fig, axs = plt.subplots(nrows = 2, ncols=2, sharey = False)\n",
    "plt.title(\"Antall ord og gjennimsnittslengde for dewey 362293, 362292, 362204\")\n",
    "sns.boxplot(x = \"dewey\", y = \"num_words\", data =df_2_1, ax=axs[0,0])\n",
    "sns.stripplot(x = \"dewey\", y = \"num_words\", data =df_2_1, jitter = True,edgecolor= \"yellow\", ax=axs[0,0])\n",
    "\n",
    "sns.boxplot(x = \"dewey\", y = \"avg_word_length\", data =df_2_1, ax=axs[0,1])\n",
    "sns.stripplot(x = \"dewey\", y = \"avg_word_length\", data =df_2_1, jitter = True,edgecolor= \"yellow\", ax=axs[0,1])\n",
    "\n",
    "fig_size=[0,0]\n",
    "fig_size[0] = 14\n",
    "fig_size[1] = 8\n",
    "plt.rcParams[\"figure.figsize\"] = fig_size\n",
    "plt.ylim(0, 20000)\n",
    "plt.tight_layout(pad=1.0, w_pad=0.5, h_pad=2.0)\n",
    "plt.show()"
   ]
  },
  {
   "cell_type": "markdown",
   "metadata": {},
   "source": [
    "### Deltest 2.2\n",
    "Plot av tekstlengde (ord) og gjennomsnittlig ordlengde for deweyene brukt i test 2.2"
   ]
  },
  {
   "cell_type": "code",
   "execution_count": null,
   "metadata": {},
   "outputs": [],
   "source": [
    "deweys22 = [\"36229\", \"34304\", \"30223\", \"34602\"]\n",
    "df_2_2 = articles.loc[articles['dewey'].isin(deweys22)].copy()\n",
    "df_2_2[\"num_words\"] = df_2_2[\"text\"].str.split().str.len()\n",
    "\n",
    "df_2_2[\"char_length\"] = df_2_2[\"text\"].str.strip().str.len()\n",
    "df_2_2[\"avg_word_length\"] = df_2_2[\"char_length\"]/df_2_2[\"num_words\"]\n",
    "\n",
    "fig, axs = plt.subplots(nrows = 2, ncols=2, sharey = False)\n",
    "plt.title(\"Antall ord og gjennimsnittslengde for dewey 362293, 362292, 362204\")\n",
    "sns.boxplot(x = \"dewey\", y = \"num_words\", data =df_2_2, ax=axs[0,0])\n",
    "sns.stripplot(x = \"dewey\", y = \"num_words\", data =df_2_2, jitter = True,edgecolor= \"yellow\", ax=axs[0,0])\n",
    "\n",
    "sns.boxplot(x = \"dewey\", y = \"avg_word_length\", data =df_2_2, ax=axs[0,1])\n",
    "sns.stripplot(x = \"dewey\", y = \"avg_word_length\", data =df_2_2, jitter = True,edgecolor= \"yellow\", ax=axs[0,1])\n",
    "\n",
    "fig_size=[0,0]\n",
    "fig_size[0] = 14\n",
    "fig_size[1] = 8\n",
    "plt.rcParams[\"figure.figsize\"] = fig_size\n",
    "plt.ylim(0, 20000)\n",
    "plt.tight_layout(pad=1.0, w_pad=0.5, h_pad=2.0)\n",
    "plt.show()"
   ]
  },
  {
   "cell_type": "markdown",
   "metadata": {},
   "source": [
    "### Deltest 2.2\n",
    "Plot av tekstlengde (ord) og gjennomsnittlig ordlengde for deweyene brukt i test 2.2"
   ]
  },
  {
   "cell_type": "code",
   "execution_count": null,
   "metadata": {},
   "outputs": [],
   "source": [
    "deweys23 = [\"6168915\", \"3412422\"]\n",
    "df_2_3 = articles.loc[articles['dewey'].isin(deweys23)].copy()\n",
    "df_2_3[\"num_words\"] = df_2_3[\"text\"].str.split().str.len()\n",
    "\n",
    "df_2_3[\"char_length\"] = df_2_3[\"text\"].str.strip().str.len()\n",
    "df_2_3[\"avg_word_length\"] = df_2_3[\"char_length\"]/df_2_3[\"num_words\"]\n",
    "\n",
    "fig, axs = plt.subplots(nrows = 2, ncols=2, sharey = False)\n",
    "plt.title(\"Antall ord og gjennimsnittslengde for dewey 362293, 362292, 362204\")\n",
    "sns.boxplot(x = \"dewey\", y = \"num_words\", data =df_2_3, ax=axs[0,0])\n",
    "sns.stripplot(x = \"dewey\", y = \"num_words\", data =df_2_3, jitter = True,edgecolor= \"yellow\", ax=axs[0,0])\n",
    "\n",
    "sns.boxplot(x = \"dewey\", y = \"avg_word_length\", data =df_2_3, ax=axs[0,1])\n",
    "sns.stripplot(x = \"dewey\", y = \"avg_word_length\", data =df_2_3, jitter = True,edgecolor= \"yellow\", ax=axs[0,1])\n",
    "\n",
    "fig_size=[0,0]\n",
    "fig_size[0] = 14\n",
    "fig_size[1] = 8\n",
    "plt.rcParams[\"figure.figsize\"] = fig_size\n",
    "plt.ylim(0, 20000)\n",
    "plt.tight_layout(pad=1.0, w_pad=0.5, h_pad=2.0)\n",
    "plt.show()"
   ]
  },
  {
   "cell_type": "code",
   "execution_count": null,
   "metadata": {},
   "outputs": [],
   "source": [
    "\n",
    "dewey7_df[\"num_words\"] = dewey7_df[\"text\"].str.split().str.len()\n",
    "dewey6_df[\"num_words\"] = dewey6_df[\"text\"].str.split().str.len()\n",
    "dewey5_df[\"num_words\"] = dewey5_df[\"text\"].str.split().str.len()\n",
    "dewey4_df[\"num_words\"] = dewey4_df[\"text\"].str.split().str.len()\n",
    "\n",
    "#print(dewey3_df[\"char_length\"])\n",
    "\n",
    "#dewey3_df.plot(x =dewey3_df[\"char_length\"], style='o')\n",
    "fig, axs = plt.subplots(nrows = 2, ncols=3, sharey = True)\n",
    "\n",
    "\n",
    "\n",
    "sns.boxplot(x = \"dewey\", y = \"num_words\", data =dewey4_df, ax=axs[0,1])\n",
    "sns.stripplot(x = \"dewey\", y = \"num_words\", data =dewey4_df, jitter = True,edgecolor= \"yellow\", ax=axs[0,1])\n",
    "\n",
    "sns.boxplot(x = \"dewey\", y = \"num_words\", data =dewey5_df, ax=axs[0,2])\n",
    "sns.stripplot(x = \"dewey\", y = \"num_words\", data =dewey5_df, jitter = True,edgecolor= \"yellow\", ax=axs[0,2])\n",
    "\n",
    "sns.boxplot(x = \"dewey\", y = \"num_words\", data =dewey6_df, ax=axs[1,0])\n",
    "sns.stripplot(x = \"dewey\", y = \"num_words\", data =dewey6_df, jitter = True,edgecolor= \"yellow\", ax=axs[1,0])\n",
    "\n",
    "sns.boxplot(x = \"dewey\", y = \"num_words\", data =dewey7_df, ax=axs[1,1])\n",
    "sns.stripplot(x = \"dewey\", y = \"num_words\", data =dewey7_df, jitter = True,edgecolor= \"yellow\", ax=axs[1,1])\n",
    "\n",
    "sns.boxplot(x = \"dewey\", y = \"num_words\", data =dewey10_df, ax=axs[1,2])\n",
    "sns.stripplot(x = \"dewey\", y = \"num_words\", data =dewey10_df, jitter = True,edgecolor= \"yellow\", ax=axs[1,2])\n",
    "plt.tight_layout(pad=1.0, w_pad=0.5, h_pad=2.0)\n",
    "# Set figure width to 12 and height to 9\n",
    "fig_size=[0,0]\n",
    "fig_size[0] = 14\n",
    "fig_size[1] = 8\n",
    "plt.rcParams[\"figure.figsize\"] = fig_size\n",
    "plt.ylim(0, 20000)\n",
    "plt.show()\n"
   ]
  },
  {
   "cell_type": "markdown",
   "metadata": {},
   "source": [
    "## Gjennomsnittlig ordlengde\n"
   ]
  },
  {
   "cell_type": "code",
   "execution_count": null,
   "metadata": {},
   "outputs": [],
   "source": [
    "##La oss nå ta en kikk på gjennomsnittlig ordlengde for de forskjellige artiklene.\n",
    "dewey10_df[\"char_length\"] = dewey10_df[\"text\"].str.strip().str.len()\n",
    "dewey10_df[\"avg_word_length\"] = dewey10_df[\"char_length\"]/dewey10_df[\"num_words\"]\n",
    "\n",
    "dewey7_df[\"char_length\"] = dewey7_df[\"text\"].str.strip().str.len()\n",
    "dewey7_df[\"avg_word_length\"] = dewey7_df[\"char_length\"]/dewey7_df[\"num_words\"]\n",
    "\n",
    "dewey6_df[\"char_length\"] = dewey6_df[\"text\"].str.strip().str.len()\n",
    "dewey6_df[\"avg_word_length\"] = dewey6_df[\"char_length\"]/dewey6_df[\"num_words\"]\n",
    "\n",
    "dewey5_df[\"char_length\"] = dewey5_df[\"text\"].str.strip().str.len()\n",
    "dewey5_df[\"avg_word_length\"] = dewey5_df[\"char_length\"]/dewey5_df[\"num_words\"]\n",
    "\n",
    "dewey4_df[\"char_length\"] = dewey4_df[\"text\"].str.strip().str.len()\n",
    "dewey4_df[\"avg_word_length\"] = dewey4_df[\"char_length\"]/dewey4_df[\"num_words\"]\n",
    "\n",
    "\n",
    "\n",
    "\n",
    "fig, axs = plt.subplots(nrows = 2, ncols=3, sharey = True)\n",
    "\n",
    "\n",
    "sns.boxplot(x = \"dewey\", y = \"avg_word_length\", data =dewey4_df, ax=axs[0,1])\n",
    "sns.stripplot(x = \"dewey\", y = \"avg_word_length\", data =dewey4_df, jitter = True,edgecolor= \"yellow\", ax=axs[0,1])\n",
    "\n",
    "sns.boxplot(x = \"dewey\", y = \"avg_word_length\", data =dewey5_df, ax=axs[0,2])\n",
    "sns.stripplot(x = \"dewey\", y = \"avg_word_length\", data =dewey5_df, jitter = True,edgecolor= \"yellow\", ax=axs[0,2])\n",
    "\n",
    "sns.boxplot(x = \"dewey\", y = \"avg_word_length\", data =dewey6_df, ax=axs[1,0])\n",
    "sns.stripplot(x = \"dewey\", y = \"avg_word_length\", data =dewey6_df, jitter = True,edgecolor= \"yellow\", ax=axs[1,0])\n",
    "\n",
    "sns.boxplot(x = \"dewey\", y = \"avg_word_length\", data =dewey7_df, ax=axs[1,1])\n",
    "sns.stripplot(x = \"dewey\", y = \"avg_word_length\", data =dewey7_df, jitter = True,edgecolor= \"yellow\", ax=axs[1,1])\n",
    "\n",
    "sns.boxplot(x = \"dewey\", y = \"avg_word_length\", data =dewey10_df, ax=axs[1,2])\n",
    "sns.stripplot(x = \"dewey\", y = \"avg_word_length\", data =dewey10_df, jitter = True,edgecolor= \"yellow\", ax=axs[1,2])\n",
    "plt.tight_layout(pad=1.0, w_pad=0.5, h_pad=2.0)\n",
    "# Set figure width to 12 and height to 9\n",
    "fig_size=[0,0]\n",
    "fig_size[0] = 14\n",
    "fig_size[1] = 8\n",
    "plt.rcParams[\"figure.figsize\"] = fig_size\n",
    "#plt.ylim(0, 20000)\n",
    "plt.show()\n"
   ]
  }
 ],
 "metadata": {
  "kernelspec": {
   "display_name": "Python 3",
   "language": "python",
   "name": "python3"
  },
  "language_info": {
   "codemirror_mode": {
    "name": "ipython",
    "version": 3
   },
   "file_extension": ".py",
   "mimetype": "text/x-python",
   "name": "python",
   "nbconvert_exporter": "python",
   "pygments_lexer": "ipython3",
   "version": "3.5.2"
  }
 },
 "nbformat": 4,
 "nbformat_minor": 1
}
