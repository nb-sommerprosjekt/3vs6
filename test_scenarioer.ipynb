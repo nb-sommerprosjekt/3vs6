{
 "cells": [
  {
   "cell_type": "markdown",
   "metadata": {
    "collapsed": true
   },
   "source": [
    "# Forsøk: Hvordan varier ML-performance for de forskjellige sifrene?\n",
    "\n",
    "## Hypotese: Det vil være lettere å klassifisere deweys dess flere siffer dem har, siden innholdet er mer spesifisert?"
   ]
  },
  {
   "cell_type": "code",
   "execution_count": 61,
   "metadata": {},
   "outputs": [
    {
     "name": "stdout",
     "output_type": "stream",
     "text": [
      "        dewey                                          file_name  \\\n",
      "count   14567                                              14567   \n",
      "unique   3552                                              14567   \n",
      "top     36229  httpwwwidunnnotsstat201003art26Sosialemedierog...   \n",
      "freq      604                                                  1   \n",
      "\n",
      "                                                     text  \n",
      "count                                               14567  \n",
      "unique                                              14278  \n",
      "top      samtideninnhold Billettmerket Ikke forambisiø...  \n",
      "freq                                                   15  \n"
     ]
    }
   ],
   "source": [
    "import sys\n",
    "sys.path.append('/home/ubuntu/PycharmProjects_saved/tgpl_w_oop')\n",
    "from nb_ml import utils_nb\n",
    "import pandas as pd\n",
    "folder = \"/home/ubuntu/PycharmProjects_saved/tgpl_w_oop/data_set/tgcForOptimization/tgcForOptimization\"\n",
    "articles = utils_nb.get_articles_from_folder_several_deweys(folder)\n",
    "print(articles.describe())"
   ]
  },
  {
   "cell_type": "markdown",
   "metadata": {},
   "source": [
    "# Oversikt over deweys og antall dokumenter per dewey\n",
    "Det første steget er å få en oversikt over hvilke deweys vi har og hvor mange vi har av hver. For å få et inntrykk så skriver vi ut en liste over de 40 øverste. Dette vil også gi oss en formening om hvilke 3,4, 5 og 6 sifrede deweys som kan være aktuelle for videre forsøk.\n"
   ]
  },
  {
   "cell_type": "code",
   "execution_count": 100,
   "metadata": {},
   "outputs": [
    {
     "name": "stdout",
     "output_type": "stream",
     "text": [
      "dewey       frekvens\n"
     ]
    },
    {
     "data": {
      "text/plain": [
       "36229         604\n",
       "839823        141\n",
       "362293        137\n",
       "3621          129\n",
       "3622          126\n",
       "34304         116\n",
       "3627          100\n",
       "362204         96\n",
       "6168915        90\n",
       "351481         90\n",
       "362292         79\n",
       "30223          75\n",
       "306            70\n",
       "379481         58\n",
       "34602          58\n",
       "3412422        57\n",
       "61092          56\n",
       "34705          54\n",
       "34306          53\n",
       "34206          53\n",
       "9072           53\n",
       "75981          52\n",
       "657            51\n",
       "34401          48\n",
       "30712          47\n",
       "34606          47\n",
       "3521409481     47\n",
       "0014           46\n",
       "37817          45\n",
       "327481         44\n",
       "61612          44\n",
       "3637387        44\n",
       "36211068       44\n",
       "30542          44\n",
       "341481         43\n",
       "34202          42\n",
       "34604          42\n",
       "33263          42\n",
       "34603          42\n",
       "610711         41\n",
       "7114           40\n",
       "839821         40\n",
       "34505          40\n",
       "331257         40\n",
       "3523           39\n",
       "61578          39\n",
       "193            39\n",
       "30072          39\n",
       "6167           37\n",
       "3053           36\n",
       "3058           36\n",
       "343055         35\n",
       "610730711      34\n",
       "3401           34\n",
       "346043         34\n",
       "36218          33\n",
       "3701           33\n",
       "351            33\n",
       "36345          33\n",
       "61689          32\n",
       "Name: dewey, dtype: int64"
      ]
     },
     "execution_count": 100,
     "metadata": {},
     "output_type": "execute_result"
    }
   ],
   "source": [
    "topN = articles[\"dewey\"].value_counts().head(60)\n",
    "print(\"dewey       frekvens\")\n",
    "topN\n"
   ]
  },
  {
   "cell_type": "markdown",
   "metadata": {},
   "source": [
    "Fra tabellen over ser vi at vi har en rekke lovende kandidater for videre forsøk. Jeg lister dem opp ved siden av antall deweys, frekvens er i parentes:\n",
    "- 10-siffer: 3521409481(47)\n",
    "\n",
    "- 7-siffer: 6168915 (90), 3412422(57)\n",
    "- 6-siffer: 839823 (141), 362293(137), 362204(96), 362292(79),379481(58)\n",
    "- 5-siffer: 36229 (604), 34304(116), 30223(75), 34602(58)\n",
    "- 4-siffer: 3621(129), 3622(126),3627(100), 34602(58),9072(53)\n",
    "- 3-siffer: 306(70), 657(51)"
   ]
  },
  {
   "cell_type": "markdown",
   "metadata": {},
   "source": [
    "# Scenarioer for testing\n",
    "### Hovedscenario\n",
    "- 3 vs 6\n",
    "\n",
    "#### Ekstra-scenarioer\n",
    "- 3 vs 5\n",
    "- 3 vs 6\n",
    "- 3 vs 7"
   ]
  },
  {
   "cell_type": "markdown",
   "metadata": {},
   "source": [
    "### Teknisk oppsett\n",
    "I testene har logistisk regresjon blitt brukt som klassifiseringsalgoritme, under ligger testkoden.\n",
    "\n",
    "Biblioteker:\n",
    "- NLTK\n",
    "- sci-kit learn\n",
    "- matplotlib\n",
    "- numpy\n"
   ]
  },
  {
   "cell_type": "code",
   "execution_count": 63,
   "metadata": {},
   "outputs": [],
   "source": [
    "import sys\n",
    "sys.path.append('/home/ubuntu/PycharmProjects_saved/tgpl_w_oop/nb_ml')\n",
    "from nb_ml import logreg\n",
    "from nltk.tokenize import word_tokenize \n",
    "from nltk.corpus import stopwords\n",
    "from sklearn.model_selection import train_test_split\n",
    "from sklearn.feature_extraction.text import CountVectorizer\n",
    "from sklearn.linear_model import LogisticRegression\n",
    "from sklearn.metrics import classification_report\n",
    "from sklearn.manifold import TSNE\n",
    "from sklearn.decomposition import TruncatedSVD\n",
    "from sklearn.metrics import accuracy_score\n",
    "import matplotlib.cm as cm\n",
    "import numpy as np\n",
    "from collections import OrderedDict\n",
    "from sklearn.neighbors.classification import KNeighborsClassifier\n",
    "class dewey_test():\n",
    "    \n",
    "    def __init__(self, data):\n",
    "        self.corpus_dataframe = data.copy()\n",
    "        self.filtered_corpus = []\n",
    "        self.x_train = None\n",
    "        self.y_train = None\n",
    "        self.x_test = None\n",
    "        self.y_test = None\n",
    "        self.model = None\n",
    "        self.predictions = None\n",
    "        self.results = None\n",
    "        self.accuracy = None\n",
    "    def preprocessing(self, numArticlesPerDewey=2, strict = False):\n",
    "        filtered_texts = []\n",
    "        if strict == True:\n",
    "            self.getStrictArticleSelection(numArticlesPerDewey)\n",
    "        for text in self.corpus_dataframe[\"text\"].values:\n",
    "            tokenized_text = word_tokenize(text = str(text), language = \"norwegian\")\n",
    "        self.y_train = self.corpus_dataframe[\"dewey\"].tolist()\n",
    "        self.y_test = self.corpus_dataframe[\"dewey\"].tolist()\n",
    "    def splitToTrainingAndTest(self, stratified):\n",
    "        x = self.corpus_dataframe[\"text\"].tolist()\n",
    "        y = self.corpus_dataframe[\"dewey\"].tolist()\n",
    "        if stratified == True:\n",
    "            self.x_train, self.x_test, self.y_train, self.y_test = train_test_split(x, y,test_size = 0.2, stratify = y,random_state = 42)\n",
    "        else:\n",
    "            self.x_train, self.x_test, self.y_train, self.y_test = train_test_split(x, y,test_size = 0.2,random_state = 42)\n",
    "    def fit(self):\n",
    "        count_vectorizer = CountVectorizer(max_features = 10000)\n",
    "        self.x_train = count_vectorizer.fit_transform(self.x_train)\n",
    "        self.x_test = count_vectorizer.transform(self.x_test)\n",
    "    def train(self):\n",
    "        self.model = LogisticRegression() \n",
    "        self.model.fit(self.x_train, self.y_train)\n",
    "    def predict(self):\n",
    "        self.predictions = self.model.predict(self.x_test)\n",
    "        self.results = classification_report(self.y_test, self.predictions)\n",
    "        self.getAccuracy()\n",
    "    def getAccuracy(self):\n",
    "        self.accuracy = accuracy_score(self.y_test, self.predictions)\n",
    "    def printResults(self):\n",
    "        print(str(self.results) +\"\\n\")\n",
    "        print(\"Accuracy:\"+ str(self.accuracy))\n",
    "    \n",
    "    def tsne(self):\n",
    "        X_reduced = TruncatedSVD(n_components = 50, random_state=0).fit_transform(self.x_train)\n",
    "        X_embedded = TSNE(n_components =2, perplexity = 40, random_state = 0).fit_transform(X_reduced)\n",
    "        \n",
    "        colors = cm.rainbow(np.linspace(0,1,len(set(self.y_train))))\n",
    "        unique_labels = set(self.y_train)\n",
    "        color_dictionary = dict(zip(unique_labels, colors))\n",
    "        \n",
    "        color_list = []\n",
    "        for label in self.y_train:\n",
    "            color_list.append(color_dictionary[str(label)])\n",
    "        for i in range(0,len(self.y_train)):    \n",
    "            plt.scatter(X_embedded[i,0], X_embedded[i,1], c = color_list[i],label = str(self.y_train[i]), \n",
    "                        cmap = \"tab20b\" )\n",
    "        handles, labels = plt.gca().get_legend_handles_labels()\n",
    "        by_label = OrderedDict(zip(labels, handles))\n",
    "        plt.legend(by_label.values(), by_label.keys())\n",
    "        plt.title(\"TSNE-plot\")\n",
    "        plt.show()\n",
    "    def getStrictArticleSelection(self, articlesPerDewey):\n",
    "        np.random.seed(0)\n",
    "        size = articlesPerDewey  # sample size\n",
    "        replace = False  # with replacement\n",
    "       \n",
    "        self.corpus_dataframe =self.corpus_dataframe[self.corpus_dataframe['dewey'].isin(self.corpus_dataframe['dewey'].value_counts()[self.corpus_dataframe['dewey'].value_counts()>size-1].index)]\n",
    "        fn = lambda obj: obj.loc[np.random.choice(obj.index, size, replace), :]\n",
    "        self.corpus_dataframe = self.corpus_dataframe.groupby('dewey', as_index=False).apply(fn)\n",
    "        \n",
    "    def plotDecisionSurface(self):\n",
    "        X_reduced = TruncatedSVD(n_components = 50, random_state=0).fit_transform(self.x_train)\n",
    "        X_embedded = TSNE(n_components =2, perplexity = 40, random_state = 0).fit_transform(X_reduced)\n",
    "        \n",
    "        \n",
    "        colors = cm.rainbow(np.linspace(0,1,len(set(self.y_train))))\n",
    "        unique_labels = set(self.y_test)\n",
    "        color_dictionary = dict(zip(unique_labels, colors))\n",
    "        \n",
    "        color_list = []\n",
    "        for label in self.y_train:\n",
    "            color_list.append(color_dictionary[str(label)])\n",
    "                \n",
    "        # create meshgrid\n",
    "        resolution = 1000 # 100x100 background pixels\n",
    "        X2d_xmin, X2d_xmax = np.min(X_embedded[:,0]), np.max(X_embedded[:,0])\n",
    "        X2d_ymin, X2d_ymax = np.min(X_embedded[:,1]), np.max(X_embedded[:,1])\n",
    "        xx, yy = np.meshgrid(np.linspace(X2d_xmin, X2d_xmax, resolution), np.linspace(X2d_ymin, X2d_ymax, resolution))\n",
    "\n",
    "        # approximate Voronoi tesselation on resolution x resolution grid using 1-NN\n",
    "        background_model = KNeighborsClassifier(n_neighbors=1).fit(X_embedded, self.y_train) \n",
    "        voronoiBackground = background_model.predict(np.c_[xx.ravel(), yy.ravel()])\n",
    "        voronoiBackground = voronoiBackground.reshape(xx.shape)\n",
    "        \n",
    "        plt.contourf(xx, yy, voronoiBackground, cmap=plt.cm.Paired)\n",
    "        handles, labels = plt.gca().get_legend_handles_labels()\n",
    "        by_label = OrderedDict(zip(labels, handles))\n",
    "        plt.legend(by_label.values(), by_label.keys())\n",
    "        for i in range(0,len(self.y_train)):    \n",
    "            plt.scatter(X_embedded[i,0], X_embedded[i,1], c = color_list[i],label = str(self.y_train[i]), \n",
    "                        cmap = \"tab20b\" )\n",
    "        handles, labels = plt.gca().get_legend_handles_labels()\n",
    "        by_label = OrderedDict(zip(labels, handles))\n",
    "        plt.legend(by_label.values(), by_label.keys())\n",
    "        plt.title(\"Contour-diagram\")\n",
    "        #plt.scatter(X_embedded[:,0], X_embedded[:,1], c=self.y_train)\n",
    "        plt.show()\n",
    "        \n"
   ]
  },
  {
   "cell_type": "code",
   "execution_count": 64,
   "metadata": {},
   "outputs": [],
   "source": [
    "## Hjelpefunksjoner\n",
    "def getDeweyAndAllSubdeweys(deweynr, corpus):\n",
    "    \n",
    "    filter_col = [col for col in articles[\"dewey\"] if col.startswith(deweynr)]\n",
    "    dfWithDeweyAndSubdeweys = corpus.loc[corpus['dewey'].isin(filter_col)].copy()\n",
    "    return dfWithDeweyAndSubdeweys\n",
    "\n",
    "def sliceDewey(x,length):\n",
    "    if len(x)==length:\n",
    "        return x[:length]\n",
    "    else:\n",
    "        return x[:]\n",
    "def joinDeweysDfs(*args):\n",
    "    all_dfs = []\n",
    "    for arg in args:\n",
    "        all_dfs.append(arg)\n",
    "    joined_df = pd.concat(all_dfs)\n",
    "    return joined_df"
   ]
  },
  {
   "cell_type": "markdown",
   "metadata": {},
   "source": [
    "## Scenario 13"
   ]
  },
  {
   "cell_type": "code",
   "execution_count": 65,
   "metadata": {},
   "outputs": [
    {
     "name": "stdout",
     "output_type": "stream",
     "text": [
      "       dewey                                          file_name  \\\n",
      "count   2029                                               2029   \n",
      "unique     1                                               2029   \n",
      "top      362  httpwwwidunnnotsrus200406omgivelsene_taler_alt...   \n",
      "freq    2029                                                  1   \n",
      "\n",
      "                                                     text  \n",
      "count                                                2029  \n",
      "unique                                               1978  \n",
      "top      rus avhengighet nr Arbeidslivet rusmiddelfri ...  \n",
      "freq                                                    5  \n",
      "       dewey                                          file_name  \\\n",
      "count    791                                                791   \n",
      "unique     1                                                791   \n",
      "top      616  urndoi104045tidsskr090300Psykogeneikkeepilepti...   \n",
      "freq     791                                                  1   \n",
      "\n",
      "                                                     text  \n",
      "count                                                 791  \n",
      "unique                                                750  \n",
      "top      BREV TIL REDAKTØREN Tidsskr Nor Legeforen nr ...  \n",
      "freq                                                    3  \n",
      "             precision    recall  f1-score   support\n",
      "\n",
      "        362       0.81      0.79      0.80        48\n",
      "        616       0.80      0.81      0.80        48\n",
      "\n",
      "avg / total       0.80      0.80      0.80        96\n",
      "\n",
      "\n",
      "Accuracy:0.802083333333\n"
     ]
    }
   ],
   "source": [
    "df_362 = getDeweyAndAllSubdeweys(\"362\", articles)\n",
    "df_362[\"dewey\"] = df_362[\"dewey\"].str[:3]\n",
    "print(df_362.describe())\n",
    "df_616 = getDeweyAndAllSubdeweys(\"616\", articles)\n",
    "df_616[\"dewey\"] = df_616[\"dewey\"].str[:3]\n",
    "print(df_616.describe())\n",
    "scenario_13_data= joinDeweysDfs(df_362, df_616)\n",
    "scenario_13 = dewey_test(scenario_13_data)\n",
    "scenario_13.preprocessing(numArticlesPerDewey =240, strict = True)\n",
    "scenario_13.splitToTrainingAndTest(stratified = True)\n",
    "scenario_13.fit()\n",
    "scenario_13.train()\n",
    "scenario_13.predict()\n",
    "scenario_13.printResults()"
   ]
  },
  {
   "cell_type": "markdown",
   "metadata": {},
   "source": [
    "## Scenario 14"
   ]
  },
  {
   "cell_type": "code",
   "execution_count": 85,
   "metadata": {},
   "outputs": [
    {
     "name": "stdout",
     "output_type": "stream",
     "text": [
      "             precision    recall  f1-score   support\n",
      "\n",
      "        362       0.92      0.94      0.93       406\n",
      "        616       0.84      0.80      0.82       158\n",
      "\n",
      "avg / total       0.90      0.90      0.90       564\n",
      "\n",
      "\n",
      "Accuracy:0.902482269504\n"
     ]
    }
   ],
   "source": [
    "scenario_14_data= joinDeweysDfs(df_362, df_616)\n",
    "scenario_14 = dewey_test(scenario_14_data)\n",
    "scenario_14.preprocessing(numArticlesPerDewey =2, strict = False)\n",
    "scenario_14.splitToTrainingAndTest(stratified = True)\n",
    "scenario_14.fit()\n",
    "scenario_14.train()\n",
    "scenario_14.predict()\n",
    "scenario_14.printResults()"
   ]
  },
  {
   "cell_type": "markdown",
   "metadata": {},
   "source": [
    "## Scenario 15"
   ]
  },
  {
   "cell_type": "code",
   "execution_count": 89,
   "metadata": {},
   "outputs": [
    {
     "name": "stdout",
     "output_type": "stream",
     "text": [
      "             precision    recall  f1-score   support\n",
      "\n",
      "       362x       0.89      0.98      0.93        48\n",
      "       616x       0.98      0.88      0.92        48\n",
      "\n",
      "avg / total       0.93      0.93      0.93        96\n",
      "\n",
      "\n",
      "Accuracy:0.927083333333\n"
     ]
    }
   ],
   "source": [
    "## For å få nok artikler så slår jeg sammen dewey 3621 og 3622, ender da opp med 252 artikler\n",
    "df_3621 = getDeweyAndAllSubdeweys(\"3621\", articles)\n",
    "df_3622 = getDeweyAndAllSubdeweys(\"3622\", articles)\n",
    "df_362x = joinDeweysDfs(df_3622, df_3621)\n",
    "## Setter alle deweyene til labelen \"362x\" for å indikere at dette er en syntetisk dewey.\n",
    "\n",
    "mask = (df_362x['dewey'].str.len() < 5)\n",
    "df_362x = df_362x.loc[mask]\n",
    "df_362x[\"dewey\"] = \"362x\"\n",
    "\n",
    "\n",
    "## For å få nok artikler så slår jeg sammen dewey \"61689\", \"61681\", \"61684\", \"61683\", \n",
    "#\"6168582\", \"61686\", \"6168915\",\"616891\",\"6168914\"\n",
    "df_61689 = getDeweyAndAllSubdeweys(\"61689\", articles)\n",
    "df_61681 = getDeweyAndAllSubdeweys(\"61681\", articles)\n",
    "df_61684 = getDeweyAndAllSubdeweys(\"61684\", articles)\n",
    "df_61683 = getDeweyAndAllSubdeweys(\"61683\", articles)\n",
    "df_6168582 = getDeweyAndAllSubdeweys(\"6168582\", articles)\n",
    "df_61686 = getDeweyAndAllSubdeweys(\"61686\", articles)\n",
    "\n",
    "df_616x = joinDeweysDfs( df_61689, df_61681, df_61684,df_61683, df_6168582, df_61686)\n",
    "\n",
    "validDeweys = [\"61689\", \"61681\", \"61684\", \"61683\", \"6168582\", \"61686\", \"6168915\",\"616891\",\"6168914\"]\n",
    "df_616x = df_616x[df_616x['dewey'].isin(validDeweys)]\n",
    "## Også her setter jeg labelnavnet til 616x for å indikere at dette er en syntetisk dewey.\n",
    "df_616x[\"dewey\"] = \"616x\"\n",
    "\n",
    "#df_616x.describe()\n",
    "scenario_15_data= joinDeweysDfs(df_362x, df_616x)\n",
    "scenario_15 = dewey_test(scenario_15_data)\n",
    "scenario_15.preprocessing(numArticlesPerDewey =240, strict = True)\n",
    "scenario_15.splitToTrainingAndTest(stratified = True)\n",
    "scenario_15.fit()\n",
    "scenario_15.train()\n",
    "scenario_15.predict()\n",
    "scenario_15.printResults()"
   ]
  },
  {
   "cell_type": "markdown",
   "metadata": {},
   "source": [
    "## Scenario 16"
   ]
  },
  {
   "cell_type": "code",
   "execution_count": 108,
   "metadata": {},
   "outputs": [
    {
     "name": "stdout",
     "output_type": "stream",
     "text": [
      "             precision    recall  f1-score   support\n",
      "\n",
      "       362x       0.90      0.92      0.91        51\n",
      "       616x       0.92      0.90      0.91        50\n",
      "\n",
      "avg / total       0.91      0.91      0.91       101\n",
      "\n",
      "\n",
      "Accuracy:0.910891089109\n"
     ]
    }
   ],
   "source": [
    "scenario_16_data= joinDeweysDfs(df_362x, df_616x)\n",
    "scenario_16 = dewey_test(scenario_16_data)\n",
    "scenario_16.preprocessing(numArticlesPerDewey =2, strict = False)\n",
    "scenario_16.splitToTrainingAndTest(stratified = True)\n",
    "scenario_16.fit()\n",
    "scenario_16.train()\n",
    "scenario_16.predict()\n",
    "scenario_16.printResults()"
   ]
  },
  {
   "cell_type": "markdown",
   "metadata": {},
   "source": [
    "## Scenario 17"
   ]
  },
  {
   "cell_type": "code",
   "execution_count": 109,
   "metadata": {},
   "outputs": [
    {
     "name": "stdout",
     "output_type": "stream",
     "text": [
      "             precision    recall  f1-score   support\n",
      "\n",
      "     362xxx       0.98      1.00      0.99        48\n",
      "     839xxx       1.00      0.98      0.99        48\n",
      "\n",
      "avg / total       0.99      0.99      0.99        96\n",
      "\n",
      "\n",
      "Accuracy:0.989583333333\n"
     ]
    }
   ],
   "source": [
    "## For å få nok artikler har man valgt å slå sammen dewey 362293, 362204, 362292. Den nye \"6-sifrede\"-deweyen\n",
    "## har fått navnet 362xxx\n",
    "df_362293 = getDeweyAndAllSubdeweys(\"362293\", articles)\n",
    "df_362204 = getDeweyAndAllSubdeweys(\"362204\", articles)\n",
    "df_362292 = getDeweyAndAllSubdeweys(\"362292\", articles)\n",
    "df_362xxx = joinDeweysDfs(df_362293, df_362204, df_362292)\n",
    "mask = (df_362xxx['dewey'].str.len() < 7)\n",
    "df_362xxx = df_362xxx.loc[mask]\n",
    "df_362xxx[\"dewey\"] = \"362xxx\"\n",
    "\n",
    "#Pga vanskeligheter med å få nok artikler velger jeg å bruke dewey 839 i disse testene\n",
    "#Følgende deweys har blitt slått sammen for å få nok artikler: 839823, 839821, 839822, 839828, 839813, \n",
    "df_839823 = getDeweyAndAllSubdeweys(\"839823\", articles)\n",
    "df_839821 = getDeweyAndAllSubdeweys(\"839821\", articles)\n",
    "df_839822 = getDeweyAndAllSubdeweys(\"839822\", articles)\n",
    "df_839828 = getDeweyAndAllSubdeweys(\"839828\", articles)\n",
    "df_839813 = getDeweyAndAllSubdeweys(\"839813\", articles)\n",
    "df_8398209 = getDeweyAndAllSubdeweys(\"8398209\", articles)\n",
    "\n",
    "df_839xxx = joinDeweysDfs(df_839823, df_839821, df_839822, df_839828, df_839813,df_8398209)\n",
    "mask = (df_839xxx['dewey'].str.len() < 8)\n",
    "df_839xxx = df_839xxx.loc[mask]\n",
    "df_839xxx[\"dewey\"] = \"839xxx\"\n",
    "\n",
    "scenario_17_data= joinDeweysDfs(df_362xxx, df_839xxx)\n",
    "scenario_17 = dewey_test(scenario_17_data)\n",
    "scenario_17.preprocessing(numArticlesPerDewey =240, strict = True)\n",
    "scenario_17.splitToTrainingAndTest(stratified = True)\n",
    "scenario_17.fit()\n",
    "scenario_17.train()\n",
    "scenario_17.predict()\n",
    "scenario_17.printResults()"
   ]
  },
  {
   "cell_type": "markdown",
   "metadata": {},
   "source": [
    "## Scenario 18"
   ]
  },
  {
   "cell_type": "code",
   "execution_count": 110,
   "metadata": {},
   "outputs": [
    {
     "name": "stdout",
     "output_type": "stream",
     "text": [
      "             precision    recall  f1-score   support\n",
      "\n",
      "     362xxx       0.98      1.00      0.99        63\n",
      "     839xxx       1.00      0.98      0.99        50\n",
      "\n",
      "avg / total       0.99      0.99      0.99       113\n",
      "\n",
      "\n",
      "Accuracy:0.991150442478\n"
     ]
    }
   ],
   "source": [
    "scenario_18_data= joinDeweysDfs(df_362xxx, df_839xxx)\n",
    "scenario_18 = dewey_test(scenario_18_data)\n",
    "scenario_18.preprocessing(numArticlesPerDewey =2, strict = False)\n",
    "scenario_18.splitToTrainingAndTest(stratified = True)\n",
    "scenario_18.fit()\n",
    "scenario_18.train()\n",
    "scenario_18.predict()\n",
    "scenario_18.printResults()"
   ]
  },
  {
   "cell_type": "markdown",
   "metadata": {},
   "source": [
    "## Scenario 19"
   ]
  },
  {
   "cell_type": "code",
   "execution_count": 120,
   "metadata": {},
   "outputs": [
    {
     "name": "stdout",
     "output_type": "stream",
     "text": [
      "             precision    recall  f1-score   support\n",
      "\n",
      "        362       0.73      0.75      0.74        48\n",
      "        616       0.79      0.77      0.78        48\n",
      "    utenfor       0.88      0.88      0.88        48\n",
      "\n",
      "avg / total       0.80      0.80      0.80       144\n",
      "\n",
      "\n",
      "Accuracy:0.798611111111\n"
     ]
    }
   ],
   "source": [
    "## De to 3 sifrede er 362 og 616. Utenforklassen blir satt sammen av et tilfeldig utvalg \n",
    "# av artikler som ikke tilhører disse deweyene.\n",
    "\n",
    "#Lager random-sett\n",
    "df_362 = getDeweyAndAllSubdeweys(\"362\", articles)\n",
    "df_616 = getDeweyAndAllSubdeweys(\"616\", articles)\n",
    "invalidDeweys =set(list(df_362[\"dewey\"].values) + list(df_616[\"dewey\"].values))\n",
    "\n",
    "df_articles_wo_362_616 = articles[~articles['dewey'].isin(invalidDeweys)]\n",
    "\n",
    "utenfor_sett = df_articles_wo_362_616.sample(n=240, random_state=2)\n",
    "utenfor_sett[\"dewey\"] = \"utenfor\"\n",
    "\n",
    "\n",
    "df_362[\"dewey\"] = df_362[\"dewey\"].str[:3]\n",
    "df_616[\"dewey\"] = df_616[\"dewey\"].str[:3]\n",
    "\n",
    "scenario_19_data= joinDeweysDfs(df_362, df_616, utenfor_sett)\n",
    "scenario_19 = dewey_test(scenario_19_data)\n",
    "scenario_19.preprocessing(numArticlesPerDewey =240, strict = True)\n",
    "scenario_19.splitToTrainingAndTest(stratified = True)\n",
    "scenario_19.fit()\n",
    "scenario_19.train()\n",
    "scenario_19.predict()\n",
    "scenario_19.printResults()"
   ]
  },
  {
   "cell_type": "markdown",
   "metadata": {},
   "source": [
    "## Scenario 20"
   ]
  },
  {
   "cell_type": "code",
   "execution_count": 125,
   "metadata": {},
   "outputs": [
    {
     "name": "stdout",
     "output_type": "stream",
     "text": [
      "             precision    recall  f1-score   support\n",
      "\n",
      "        362       0.82      0.88      0.85       406\n",
      "        616       0.79      0.70      0.74       158\n",
      "    utenfor       0.89      0.86      0.87       400\n",
      "\n",
      "avg / total       0.84      0.84      0.84       964\n",
      "\n",
      "\n",
      "Accuracy:0.843360995851\n"
     ]
    }
   ],
   "source": [
    "utenfor_sett_alle = df_articles_wo_362_616.sample(n=2000, random_state=2)\n",
    "utenfor_sett_alle[\"dewey\"] = \"utenfor\"\n",
    "\n",
    "scenario_20_data= joinDeweysDfs(df_362, df_616, utenfor_sett_alle)\n",
    "scenario_20 = dewey_test(scenario_20_data)\n",
    "scenario_20.preprocessing(numArticlesPerDewey =2, strict = False)\n",
    "scenario_20.splitToTrainingAndTest(stratified = True)\n",
    "scenario_20.fit()\n",
    "scenario_20.train()\n",
    "scenario_20.predict()\n",
    "scenario_20.printResults()"
   ]
  },
  {
   "cell_type": "markdown",
   "metadata": {},
   "source": [
    "## Scenario 21"
   ]
  },
  {
   "cell_type": "code",
   "execution_count": 127,
   "metadata": {},
   "outputs": [
    {
     "name": "stdout",
     "output_type": "stream",
     "text": [
      "             precision    recall  f1-score   support\n",
      "\n",
      "       362x       0.85      0.94      0.89        48\n",
      "       616x       0.93      0.81      0.87        48\n",
      "    utenfor       0.86      0.88      0.87        48\n",
      "\n",
      "avg / total       0.88      0.88      0.87       144\n",
      "\n",
      "\n",
      "Accuracy:0.875\n"
     ]
    }
   ],
   "source": [
    "scenario_21_data= joinDeweysDfs(scenario_15_data, utenfor_sett)\n",
    "scenario_21 = dewey_test(scenario_21_data)\n",
    "scenario_21.preprocessing(numArticlesPerDewey =240, strict = True)\n",
    "scenario_21.splitToTrainingAndTest(stratified = True)\n",
    "scenario_21.fit()\n",
    "scenario_21.train()\n",
    "scenario_21.predict()\n",
    "scenario_21.printResults()"
   ]
  },
  {
   "cell_type": "markdown",
   "metadata": {},
   "source": [
    "## Scenario 22"
   ]
  },
  {
   "cell_type": "code",
   "execution_count": 131,
   "metadata": {},
   "outputs": [
    {
     "name": "stdout",
     "output_type": "stream",
     "text": [
      "             precision    recall  f1-score   support\n",
      "\n",
      "     362xxx       0.85      0.96      0.90        48\n",
      "     839xxx       0.94      0.96      0.95        48\n",
      "    utenfor       0.90      0.77      0.83        48\n",
      "\n",
      "avg / total       0.90      0.90      0.89       144\n",
      "\n",
      "\n",
      "Accuracy:0.895833333333\n"
     ]
    }
   ],
   "source": [
    "df_362 = getDeweyAndAllSubdeweys(\"362\", articles)\n",
    "df_616 = getDeweyAndAllSubdeweys(\"616\", articles)\n",
    "invalidDeweys =set(list(df_362[\"dewey\"].values) + list(df_839[\"dewey\"].values))\n",
    "df_articles_wo_362_839 = articles[~articles['dewey'].isin(invalidDeweys)]\n",
    "utenfor_sett = df_articles_wo_362_839.sample(n=240, random_state=2)\n",
    "utenfor_sett[\"dewey\"] = \"utenfor\"\n",
    "\n",
    "scenario_22_data= joinDeweysDfs(scenario_17_data, utenfor_sett)\n",
    "scenario_22 = dewey_test(scenario_22_data)\n",
    "scenario_22.preprocessing(numArticlesPerDewey =240, strict = True)\n",
    "scenario_22.splitToTrainingAndTest(stratified = True)\n",
    "scenario_22.fit()\n",
    "scenario_22.train()\n",
    "scenario_22.predict()\n",
    "scenario_22.printResults()"
   ]
  },
  {
   "cell_type": "markdown",
   "metadata": {},
   "source": [
    "## Scenario 23"
   ]
  },
  {
   "cell_type": "code",
   "execution_count": 136,
   "metadata": {},
   "outputs": [
    {
     "name": "stdout",
     "output_type": "stream",
     "text": [
      "             precision    recall  f1-score   support\n",
      "\n",
      "     362xxx       0.81      0.81      0.81        63\n",
      "     839xxx       0.90      0.72      0.80        50\n",
      "    utenfor       0.94      0.96      0.95       400\n",
      "\n",
      "avg / total       0.92      0.92      0.92       513\n",
      "\n",
      "\n",
      "Accuracy:0.918128654971\n"
     ]
    }
   ],
   "source": [
    "utenfor_sett_alle = df_articles_wo_362_839.sample(n=2000, random_state=2)\n",
    "utenfor_sett_alle[\"dewey\"] = \"utenfor\"\n",
    "\n",
    "scenario_23_data= joinDeweysDfs(scenario_18_data, utenfor_sett_alle)\n",
    "scenario_23 = dewey_test(scenario_23_data)\n",
    "scenario_23.preprocessing(numArticlesPerDewey =240, strict = False)\n",
    "scenario_23.splitToTrainingAndTest(stratified = True)\n",
    "scenario_23.fit()\n",
    "scenario_23.train()\n",
    "scenario_23.predict()\n",
    "scenario_23.printResults()"
   ]
  },
  {
   "cell_type": "code",
   "execution_count": null,
   "metadata": {},
   "outputs": [],
   "source": []
  }
 ],
 "metadata": {
  "kernelspec": {
   "display_name": "Python 3",
   "language": "python",
   "name": "python3"
  },
  "language_info": {
   "codemirror_mode": {
    "name": "ipython",
    "version": 3
   },
   "file_extension": ".py",
   "mimetype": "text/x-python",
   "name": "python",
   "nbconvert_exporter": "python",
   "pygments_lexer": "ipython3",
   "version": "3.5.2"
  }
 },
 "nbformat": 4,
 "nbformat_minor": 1
}
